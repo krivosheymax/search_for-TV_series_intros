{
  "nbformat": 4,
  "nbformat_minor": 0,
  "metadata": {
    "colab": {
      "provenance": []
    },
    "kernelspec": {
      "name": "python3",
      "display_name": "Python 3"
    },
    "language_info": {
      "name": "python"
    }
  },
  "cells": [
    {
      "cell_type": "markdown",
      "source": [
        "Архитектуры нейронных сетей"
      ],
      "metadata": {
        "id": "D1zWD178etUz"
      }
    },
    {
      "cell_type": "markdown",
      "source": [
        "Импорт модулей"
      ],
      "metadata": {
        "id": "bhJf4pkzO0sG"
      }
    },
    {
      "cell_type": "code",
      "execution_count": 2,
      "metadata": {
        "id": "_hyRbO4FYN-g"
      },
      "outputs": [],
      "source": [
        "import numpy as np\n",
        "import librosa\n",
        "import librosa.display\n",
        "import matplotlib.pyplot as plt\n",
        "import torch.nn as nn\n",
        "import torch\n",
        "dev = torch.device(\"cuda\" if torch.cuda.is_available() else \"cpu\")"
      ]
    },
    {
      "cell_type": "markdown",
      "source": [
        "Архитектура нейронных сетей"
      ],
      "metadata": {
        "id": "mLUpPyhsO6b6"
      }
    },
    {
      "cell_type": "code",
      "source": [
        "class EmbeddingAudio(nn.Module):\n",
        "  def __init__(self, shape):\n",
        "    super(EmbeddingAudio, self).__init__()\n",
        "    x, y = shape[0], (((shape[1]-4)//2-4)//2-4)//2-4\n",
        "    self.conv = nn.Sequential(nn.Conv2d(1, 27, (1,3)), nn.BatchNorm2d(27), nn.ReLU(),\n",
        "                              nn.Conv2d(27, 27, (1,3)), nn.BatchNorm2d(27), nn.ReLU(),\n",
        "                              nn.MaxPool2d((1, 2)),\n",
        "                              nn.Conv2d(27, 81, (1,3)), nn.BatchNorm2d(81), nn.ReLU(),\n",
        "                              nn.Conv2d(81, 81, (1,3)), nn.BatchNorm2d(81), nn.ReLU(),\n",
        "                              nn.MaxPool2d((1, 2)),\n",
        "                              nn.Conv2d(81, 81, (1,3)), nn.BatchNorm2d(81), nn.ReLU(),\n",
        "                              nn.Conv2d(81, 81, (1,3)), nn.BatchNorm2d(81), nn.ReLU(),\n",
        "                              nn.MaxPool2d((1, 2)),\n",
        "                              nn.Conv2d(81, 81, (1,3)), nn.BatchNorm2d(81), nn.ReLU(),\n",
        "                              nn.Conv2d(81, 81, (1,3)), nn.BatchNorm2d(81), nn.ReLU(),\n",
        "                              nn.Flatten())\n",
        "    self.fc = nn.Sequential(nn.Linear(x*y*81, 2000), nn.BatchNorm1d(2000), nn.ReLU(),\n",
        "                            nn.Linear(2000, 500), nn.BatchNorm1d(500), nn.ReLU(),)\n",
        "  def forward(self, x):\n",
        "    z1 = self.conv(x)\n",
        "    z2 = self.fc(x)\n",
        "    return z2"
      ],
      "metadata": {
        "id": "ecY7YYG44ssb"
      },
      "execution_count": 3,
      "outputs": []
    },
    {
      "cell_type": "code",
      "source": [
        "class EmbeddingImage(nn.Module):\n",
        "  def __init__(self, shape):\n",
        "    super(EmbeddingImage, self).__init__()\n",
        "    x, y = (((shape[0]-4)//2-4)//2-4)//2-4, (((shape[1]-4)//2-4)//2-4)//2-4\n",
        "    self.conv = nn.Sequential(nn.Conv2d(3, 27, 3), nn.BatchNorm2d(27), nn.ReLU(),\n",
        "                              nn.Conv2d(27, 27, 3), nn.BatchNorm2d(27), nn.ReLU(),\n",
        "                              nn.MaxPool2d(2),\n",
        "                              nn.Conv2d(27, 81, 3), nn.BatchNorm2d(81), nn.ReLU(),\n",
        "                              nn.Conv2d(81, 81, 3), nn.BatchNorm2d(81), nn.ReLU(),\n",
        "                              nn.MaxPool2d(2),\n",
        "                              nn.Conv2d(81, 243, 3), nn.BatchNorm2d(243), nn.ReLU(),\n",
        "                              nn.Conv2d(243, 243, 3), nn.BatchNorm2d(243), nn.ReLU(),\n",
        "                              nn.MaxPool2d(2),\n",
        "                              nn.Conv2d(243, 243, 3), nn.BatchNorm2d(243), nn.ReLU(),\n",
        "                              nn.Conv2d(243, 243, 3), nn.BatchNorm2d(243), nn.ReLU(),\n",
        "                              nn.Flatten())\n",
        "    self.fc = nn.Sequential(nn.Linear(x*y*243, 2000), nn.BatchNorm1d(2000), nn.ReLU(),\n",
        "                            nn.Linear(2000, 500), nn.BatchNorm1d(500), nn.ReLU(),)\n",
        "  def forward(self, x):\n",
        "    z1 = self.conv(x)\n",
        "    z2 = self.fc(x)\n",
        "    return z2"
      ],
      "metadata": {
        "id": "Yfi9puJGA6Tf"
      },
      "execution_count": 8,
      "outputs": []
    },
    {
      "cell_type": "code",
      "source": [
        "class LSTM(nn.Module):\n",
        "  def __init__(self):\n",
        "    super(LSTM, self).__init__()\n",
        "    self.lstm = nn.LSTM(1000, 300)\n",
        "    self.fc = nn.Linear(300, 1)\n",
        "  def forward(self, x):\n",
        "    h0 = torch.zeros(1, x.shape[0], 300).to(dev)\n",
        "    c0 = torch.zeros(1, x.shape[0], 300).to(dev)\n",
        "    out, (hn, cn) = self.lstm(x, (h0, c0))\n",
        "    out = self.fc(out[:, -1, :])\n",
        "    return out, hn, cn"
      ],
      "metadata": {
        "id": "vKiqcXYoGwxX"
      },
      "execution_count": 5,
      "outputs": []
    },
    {
      "cell_type": "markdown",
      "source": [
        "Создание объектов классов"
      ],
      "metadata": {
        "id": "y1BMXtekOvUh"
      }
    },
    {
      "cell_type": "code",
      "source": [
        "a = EmbeddingAudio((128, 400))"
      ],
      "metadata": {
        "id": "STMdtER7Lm_z"
      },
      "execution_count": 6,
      "outputs": []
    },
    {
      "cell_type": "code",
      "source": [
        "b = EmbeddingImage((300, 300))"
      ],
      "metadata": {
        "id": "2XRu3VePNdmr"
      },
      "execution_count": 9,
      "outputs": []
    },
    {
      "cell_type": "code",
      "source": [
        "c = LSTM()"
      ],
      "metadata": {
        "id": "5xaaAqCEOtTp"
      },
      "execution_count": 10,
      "outputs": []
    }
  ]
}